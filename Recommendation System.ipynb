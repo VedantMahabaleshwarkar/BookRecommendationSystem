{
 "cells": [
  {
   "cell_type": "markdown",
   "metadata": {},
   "source": [
    "# Recommendation System for Books"
   ]
  },
  {
   "cell_type": "code",
   "execution_count": 1,
   "metadata": {},
   "outputs": [],
   "source": [
    "# imports\n",
    "import pandas as pd\n",
    "import matplotlib.pyplot as plt\n",
    "import sklearn.metrics as metrics\n",
    "import numpy as np\n",
    "from sklearn.neighbors import NearestNeighbors\n",
    "from scipy.spatial.distance import correlation\n",
    "from sklearn.metrics.pairwise import pairwise_distances\n",
    "import warnings\n",
    "import numpy as np\n",
    "import os, sys\n",
    "import re\n",
    "import seaborn as sns\n",
    "warnings.filterwarnings('ignore')"
   ]
  },
  {
   "cell_type": "markdown",
   "metadata": {},
   "source": [
    "#### Loading Data"
   ]
  },
  {
   "cell_type": "raw",
   "metadata": {},
   "source": [
    "Source of dataset : http://www2.informatik.uni-freiburg.de/~cziegler/BX/ \n",
    "This dataset has 3 csv files\n",
    "1) Books Dataset\n",
    "2) Users Dataset\n",
    "3) Ratings Dataset"
   ]
  },
  {
   "cell_type": "markdown",
   "metadata": {},
   "source": [
    "#### Pre-processing Data"
   ]
  },
  {
   "cell_type": "code",
   "execution_count": 4,
   "metadata": {},
   "outputs": [
    {
     "name": "stderr",
     "output_type": "stream",
     "text": [
      "b'Skipping line 6452: expected 8 fields, saw 9\\nSkipping line 43667: expected 8 fields, saw 10\\nSkipping line 51751: expected 8 fields, saw 9\\n'\n",
      "b'Skipping line 92038: expected 8 fields, saw 9\\nSkipping line 104319: expected 8 fields, saw 9\\nSkipping line 121768: expected 8 fields, saw 9\\n'\n",
      "b'Skipping line 144058: expected 8 fields, saw 9\\nSkipping line 150789: expected 8 fields, saw 9\\nSkipping line 157128: expected 8 fields, saw 9\\nSkipping line 180189: expected 8 fields, saw 9\\nSkipping line 185738: expected 8 fields, saw 9\\n'\n",
      "b'Skipping line 209388: expected 8 fields, saw 9\\nSkipping line 220626: expected 8 fields, saw 9\\nSkipping line 227933: expected 8 fields, saw 11\\nSkipping line 228957: expected 8 fields, saw 10\\nSkipping line 245933: expected 8 fields, saw 9\\nSkipping line 251296: expected 8 fields, saw 9\\nSkipping line 259941: expected 8 fields, saw 9\\nSkipping line 261529: expected 8 fields, saw 9\\n'\n"
     ]
    },
    {
     "name": "stdout",
     "output_type": "stream",
     "text": [
      "           id                                              Title  \\\n",
      "0  0195153448                                Classical Mythology   \n",
      "1  0002005018                                       Clara Callan   \n",
      "2  0060973129                               Decision in Normandy   \n",
      "3  0374157065  Flu: The Story of the Great Influenza Pandemic...   \n",
      "4  0393045218                             The Mummies of Urumchi   \n",
      "\n",
      "                 Author Published                   Publisher  \n",
      "0    Mark P. O. Morford      2002     Oxford University Press  \n",
      "1  Richard Bruce Wright      2001       HarperFlamingo Canada  \n",
      "2          Carlo D'Este      1991             HarperPerennial  \n",
      "3      Gina Bari Kolata      1999        Farrar Straus Giroux  \n",
      "4       E. J. W. Barber      1999  W. W. Norton &amp; Company  \n",
      "   id                            Location   Age\n",
      "0   1                  nyc, new york, usa   NaN\n",
      "1   2           stockton, california, usa  18.0\n",
      "2   3     moscow, yukon territory, russia   NaN\n",
      "3   4           porto, v.n.gaia, portugal  17.0\n",
      "4   5  farnborough, hants, united kingdom   NaN\n",
      "   UserID      BookID  BookRating\n",
      "0  276725  034545104X           0\n",
      "1  276726  0155061224           5\n",
      "2  276727  0446520802           0\n",
      "3  276729  052165615X           3\n",
      "4  276729  0521795028           6\n"
     ]
    }
   ],
   "source": [
    "# Loading Data\n",
    "books = pd.read_csv(\"BX-Books.csv\", sep=';', error_bad_lines=False, encoding=\"latin-1\")\n",
    "books.columns = ['id', 'Title', 'Author', 'Published', 'Publisher', 'ImageURLs', 'ImageURLm', 'imageURLL']\n",
    "books.drop(['ImageURLs', 'ImageURLm', 'imageURLL'], axis=1, inplace=True)\n",
    "print(books.head())\n",
    "users = pd.read_csv(\"BX-Users.csv\", sep=';', error_bad_lines=False, encoding=\"latin-1\")\n",
    "users.columns = ['id', 'Location', 'Age']\n",
    "print(users.head())\n",
    "ratings = pd.read_csv(\"BX-Book-Ratings.csv\", sep=';', error_bad_lines=False, encoding=\"latin-1\")\n",
    "ratings.columns = ['UserID', 'BookID', 'BookRating']\n",
    "print(ratings.head())"
   ]
  },
  {
   "cell_type": "code",
   "execution_count": 5,
   "metadata": {},
   "outputs": [
    {
     "name": "stdout",
     "output_type": "stream",
     "text": [
      "id           object\n",
      "Title        object\n",
      "Author       object\n",
      "Published    object\n",
      "Publisher    object\n",
      "dtype: object\n",
      "[2002 2001 1991 1999 2000 1993 1996 1988 2004 1998 1994 2003 1997 1983\n",
      " 1979 1995 1982 1985 1992 1986 1978 1980 1952 1987 1990 1981 1989 1984 0\n",
      " 1968 1961 1958 1974 1976 1971 1977 1975 1965 1941 1970 1962 1973 1972\n",
      " 1960 1966 1920 1956 1959 1953 1951 1942 1963 1964 1969 1954 1950 1967\n",
      " 2005 1957 1940 1937 1955 1946 1936 1930 2011 1925 1948 1943 1947 1945\n",
      " 1923 2020 1939 1926 1938 2030 1911 1904 1949 1932 1928 1929 1927 1931\n",
      " 1914 2050 1934 1910 1933 1902 1924 1921 1900 2038 2026 1944 1917 1901\n",
      " 2010 1908 1906 1935 1806 2021 '2000' '1995' '1999' '2004' '2003' '1990'\n",
      " '1994' '1986' '1989' '2002' '1981' '1993' '1983' '1982' '1976' '1991'\n",
      " '1977' '1998' '1992' '1996' '0' '1997' '2001' '1974' '1968' '1987' '1984'\n",
      " '1988' '1963' '1956' '1970' '1985' '1978' '1973' '1980' '1979' '1975'\n",
      " '1969' '1961' '1965' '1939' '1958' '1950' '1953' '1966' '1971' '1959'\n",
      " '1972' '1955' '1957' '1945' '1960' '1967' '1932' '1924' '1964' '2012'\n",
      " '1911' '1927' '1948' '1962' '2006' '1952' '1940' '1951' '1931' '1954'\n",
      " '2005' '1930' '1941' '1944' 'DK Publishing Inc' '1943' '1938' '1900'\n",
      " '1942' '1923' '1920' '1933' 'Gallimard' '1909' '1946' '2008' '1378'\n",
      " '2030' '1936' '1947' '2011' '2020' '1919' '1949' '1922' '1897' '2024'\n",
      " '1376' '1926' '2037']\n",
      "[0, 1376, 1378, 1806, 1897, 1900, 1901, 1902, 1904, 1906, 1908, 1909, 1910, 1911, 1914, 1917, 1919, 1920, 1921, 1922, 1923, 1924, 1925, 1926, 1927, 1928, 1929, 1930, 1931, 1932, 1933, 1934, 1935, 1936, 1937, 1938, 1939, 1940, 1941, 1942, 1943, 1944, 1945, 1946, 1947, 1948, 1949, 1950, 1951, 1952, 1953, 1954, 1955, 1956, 1957, 1958, 1959, 1960, 1961, 1962, 1963, 1964, 1965, 1966, 1967, 1968, 1969, 1970, 1971, 1972, 1973, 1974, 1975, 1976, 1977, 1978, 1979, 1980, 1981, 1982, 1983, 1984, 1985, 1986, 1987, 1988, 1989, 1990, 1991, 1992, 1993, 1994, 1995, 1996, 1997, 1998, 1999, 2000, 2001, 2002, 2003, 2004, 2005, 2006, 2008, 2010, 2011, 2012, 2020, 2021, 2024, 2026, 2030, 2037, 2038, 2050]\n"
     ]
    }
   ],
   "source": [
    "# Cleaning Books Dataframe\n",
    "pd.set_option('display.max_colwidth', -1)\n",
    "print(books.dtypes)\n",
    "print(books.Published.unique())\n",
    "# Some year of publication values have the publisher values instead\n",
    "# Correcting DK Publishing\n",
    "books.loc[books.Published == 'DK Publishing Inc']\n",
    "books.loc[books.id == '078946697X', 'Published'] = 2000\n",
    "books.loc[books.id == '078946697X', 'Author'] = 'Michael Teitelbaum'\n",
    "books.loc[books.id == '078946697X', 'Publisher'] = 'DK Publishing Inc'\n",
    "books.loc[books.id == '078946697X', 'Title'] = 'DK Readers: Creating the X-Men, How It All Began (Level 4: Proficient Readers)'\n",
    "books.loc[books.id == '0789466953', 'Published'] = 2000\n",
    "books.loc[books.id == '0789466953', 'Author'] = 'James Buckley'\n",
    "books.loc[books.id == '0789466953', 'Publisher'] = 'DK Publishing Inc'\n",
    "books.loc[books.id == '0789466953', 'Title'] = 'DK Readers: Creating the X-Men, How Comic Books Come to Life (Level 4: Proficient Readers)'\n",
    "# Correct Gallimard\n",
    "books.loc[books.Published == 'Gallimard']\n",
    "books.loc[books.id == '2070426769', 'Published'] = 2003\n",
    "books.loc[books.id == '2070426769', 'Author'] = 'Jean-Marie Gustave Le ClÃ?Â©zio'\n",
    "books.loc[books.id == '2070426769', 'Publisher'] = 'Gallimard'\n",
    "books.loc[books.id == '2070426769', 'Title'] = \"Peuple du ciel, suivi de 'Les Bergers\"\n",
    "books.Published = pd.to_numeric(books.Published, errors='coerce')\n",
    "print(sorted(books['Published'].unique()))\n",
    "books.loc[books.Publisher.isnull()]\n",
    "books.loc[(books.id == '193169656X'), 'Publisher'] = 'Other'\n",
    "books.loc[(books.id == '1931696993'), 'Publisher'] = 'Other'"
   ]
  },
  {
   "cell_type": "code",
   "execution_count": 6,
   "metadata": {},
   "outputs": [
    {
     "name": "stdout",
     "output_type": "stream",
     "text": [
      "[     1      2      3 ... 278856 278857 278858]\n",
      "[5, 6, 7, 8, 9, 10, 11, 12, 13, 14, 15, 16, 17, 18, 19, 20, 21, 22, 23, 24, 25, 26, 27, 28, 29, 30, 31, 32, 33, 34, 35, 36, 37, 38, 39, 40, 41, 42, 43, 44, 45, 46, 47, 48, 49, 50, 51, 52, 53, 54, 55, 56, 57, 58, 59, 60, 61, 62, 63, 64, 65, 66, 67, 68, 69, 70, 71, 72, 73, 74, 75, 76, 77, 78, 79, 80, 81, 82, 83, 84, 85, 86, 87, 88, 89, 90]\n"
     ]
    }
   ],
   "source": [
    "# Cleaning Users Dataframe\n",
    "print(users.id.values)\n",
    "# Removing ages below 5 and above 90 and replacing with mean values\n",
    "users.loc[(users.Age > 90) | (users.Age < 5), 'Age'] = np.nan\n",
    "users.Age = users.Age.fillna(users.Age.mean())\n",
    "users.Age = users.Age.astype(np.int32)\n",
    "print(sorted(users.Age.unique()))"
   ]
  },
  {
   "cell_type": "code",
   "execution_count": 7,
   "metadata": {},
   "outputs": [
    {
     "name": "stdout",
     "output_type": "stream",
     "text": [
      "(1149780, 3)\n",
      "75670906880\n",
      "   UserID      BookID  BookRating\n",
      "0  276725  034545104X  0         \n",
      "1  276726  0155061224  5         \n",
      "2  276727  0446520802  0         \n",
      "3  276729  052165615X  3         \n",
      "4  276729  0521795028  6         \n"
     ]
    }
   ],
   "source": [
    "print(ratings.shape)\n",
    "n_users = users.shape[0]\n",
    "n_books = books.shape[0]\n",
    "print(n_users * n_books)\n",
    "print(ratings.head(5))"
   ]
  },
  {
   "cell_type": "code",
   "execution_count": 8,
   "metadata": {},
   "outputs": [],
   "source": [
    "ratings_new = ratings[ratings.BookID.isin(books.id)]\n",
    "ratings_new = ratings_new[ratings_new.UserID.isin(users.id)]"
   ]
  },
  {
   "cell_type": "code",
   "execution_count": 9,
   "metadata": {},
   "outputs": [
    {
     "name": "stdout",
     "output_type": "stream",
     "text": [
      "(1149780, 3)\n",
      "(1031136, 3)\n",
      "[ 0  5  3  6  8  7 10  9  4  1  2]\n"
     ]
    }
   ],
   "source": [
    "print(ratings.shape)\n",
    "print(ratings_new.shape)\n",
    "print(ratings.BookRating.unique())\n",
    "ratings_explicit = ratings_new[ratings_new.BookRating != 0]\n",
    "ratings_implicit = ratings_new[ratings_new.BookRating == 0]\n",
    "users_explicit_ratings = users[users.id.isin(ratings_explicit.UserID)]\n",
    "users_implicit_ratings = users[users.id.isin(ratings_implicit.UserID)]"
   ]
  },
  {
   "cell_type": "code",
   "execution_count": 10,
   "metadata": {},
   "outputs": [
    {
     "data": {
      "image/png": "[encoded data removed]",
      "text/plain": [
       "<Figure size 432x288 with 1 Axes>"
      ]
     },
     "metadata": {
      "needs_background": "light"
     },
     "output_type": "display_data"
    }
   ],
   "source": [
    "sns.countplot(data=ratings_explicit, x=\"BookRating\")\n",
    "plt.show()"
   ]
  },
  {
   "cell_type": "markdown",
   "metadata": {},
   "source": [
    "## Recommendation System based on high-ratings (not user-specific) "
   ]
  },
  {
   "cell_type": "code",
   "execution_count": 11,
   "metadata": {},
   "outputs": [
    {
     "name": "stdout",
     "output_type": "stream",
     "text": [
      "Following books are the most highly rated\n",
      "      BookRating          id  \\\n",
      "408   5787        0316666343   \n",
      "748   4108        0385504209   \n",
      "522   3134        0312195516   \n",
      "2143  2798        059035342X   \n",
      "356   2595        0142001740   \n",
      "26    2551        0971880107   \n",
      "1105  2524        0060928336   \n",
      "706   2402        0446672211   \n",
      "231   2219        0452282152   \n",
      "118   2179        0671027360   \n",
      "\n",
      "                                                                 Title  \\\n",
      "408   The Lovely Bones: A Novel                                          \n",
      "748   The Da Vinci Code                                                  \n",
      "522   The Red Tent (Bestselling Backlist)                                \n",
      "2143  Harry Potter and the Sorcerer's Stone (Harry Potter (Paperback))   \n",
      "356   The Secret Life of Bees                                            \n",
      "26    Wild Animus                                                        \n",
      "1105  Divine Secrets of the Ya-Ya Sisterhood: A Novel                    \n",
      "706   Where the Heart Is (Oprah's Book Club (Paperback))                 \n",
      "231   Girl with a Pearl Earring                                          \n",
      "118   Angels &amp; Demons                                                \n",
      "\n",
      "               Author  Published               Publisher  \n",
      "408   Alice Sebold     2002       Little, Brown           \n",
      "748   Dan Brown        2003       Doubleday               \n",
      "522   Anita Diamant    1998       Picador USA             \n",
      "2143  J. K. Rowling    1999       Arthur A. Levine Books  \n",
      "356   Sue Monk Kidd    2003       Penguin Books           \n",
      "26    Rich Shapero     2004       Too Far                 \n",
      "1105  Rebecca Wells    1997       Perennial               \n",
      "706   Billie Letts     1998       Warner Books            \n",
      "231   Tracy Chevalier  2001       Plume Books             \n",
      "118   Dan Brown        2001       Pocket Star             \n"
     ]
    }
   ],
   "source": [
    "ratings_count = pd.DataFrame(ratings_explicit.groupby(['BookID'])['BookRating'].sum())\n",
    "best_10_books = ratings_count.sort_values('BookRating', ascending = False)\n",
    "#best_10_books.merge(books, left_index = True, right_on = 'id')\n",
    "print(\"Following books are the most highly rated\")\n",
    "print(best_10_books.merge(books, left_index = True, right_on = 'id').head(10))"
   ]
  },
  {
   "cell_type": "markdown",
   "metadata": {},
   "source": [
    "## User-based Collaborative Filtering Recommendation System"
   ]
  },
  {
   "cell_type": "raw",
   "metadata": {},
   "source": [
    "Some theory about collaborative filtering\n",
    "https://towardsdatascience.com/intro-to-recommender-system-collaborative-filtering-64a238194a26"
   ]
  },
  {
   "cell_type": "code",
   "execution_count": 12,
   "metadata": {},
   "outputs": [],
   "source": [
    "user_counts = ratings_explicit['UserID'].value_counts()\n",
    "ratings_explicit = ratings_explicit[ratings_explicit['UserID'].isin(user_counts[user_counts >= 100].index)]\n",
    "ratings_counts = ratings_explicit['BookRating'].value_counts()\n",
    "ratings_explicit = ratings_explicit[ratings_explicit['BookRating'].isin(ratings_counts[ratings_counts >= 100].index)]"
   ]
  },
  {
   "cell_type": "code",
   "execution_count": 13,
   "metadata": {},
   "outputs": [
    {
     "name": "stdout",
     "output_type": "stream",
     "text": [
      "BookID  0000913154  0001046438  000104687X  0001047213  0001047973  \\\n",
      "UserID                                                               \n",
      "2033   NaN         NaN         NaN         NaN         NaN           \n",
      "2110   NaN         NaN         NaN         NaN         NaN           \n",
      "2276   NaN         NaN         NaN         NaN         NaN           \n",
      "4017   NaN         NaN         NaN         NaN         NaN           \n",
      "4385   NaN         NaN         NaN         NaN         NaN           \n",
      "\n",
      "BookID  000104799X  0001048082  0001053736  0001053744  0001055607  ...  \\\n",
      "UserID                                                              ...   \n",
      "2033   NaN         NaN         NaN         NaN         NaN          ...   \n",
      "2110   NaN         NaN         NaN         NaN         NaN          ...   \n",
      "2276   NaN         NaN         NaN         NaN         NaN          ...   \n",
      "4017   NaN         NaN         NaN         NaN         NaN          ...   \n",
      "4385   NaN         NaN         NaN         NaN         NaN          ...   \n",
      "\n",
      "BookID  B000092Q0A  B00009EF82  B00009NDAN  B0000DYXID  B0000T6KHI  \\\n",
      "UserID                                                               \n",
      "2033   NaN         NaN         NaN         NaN         NaN           \n",
      "2110   NaN         NaN         NaN         NaN         NaN           \n",
      "2276   NaN         NaN         NaN         NaN         NaN           \n",
      "4017   NaN         NaN         NaN         NaN         NaN           \n",
      "4385   NaN         NaN         NaN         NaN         NaN           \n",
      "\n",
      "BookID  B0000VZEJQ  B0000X8HIE  B00013AX9E  B0001I1KOG  B000234N3A  \n",
      "UserID                                                              \n",
      "2033   NaN         NaN         NaN         NaN         NaN          \n",
      "2110   NaN         NaN         NaN         NaN         NaN          \n",
      "2276   NaN         NaN         NaN         NaN         NaN          \n",
      "4017   NaN         NaN         NaN         NaN         NaN          \n",
      "4385   NaN         NaN         NaN         NaN         NaN          \n",
      "\n",
      "[5 rows x 66574 columns]\n"
     ]
    }
   ],
   "source": [
    "ratings_matrix = ratings_explicit.pivot(index = 'UserID', columns = 'BookID', values = 'BookRating')\n",
    "userID = ratings_matrix.index\n",
    "bookID = ratings_matrix.columns\n",
    "print(ratings_matrix.head(5))"
   ]
  },
  {
   "cell_type": "code",
   "execution_count": 14,
   "metadata": {},
   "outputs": [],
   "source": [
    "ratings_matrix = ratings_matrix.fillna(0)"
   ]
  },
  {
   "cell_type": "code",
   "execution_count": 15,
   "metadata": {},
   "outputs": [
    {
     "data": {
      "text/html": [
       "<div>\n",
       "<style scoped>\n",
       "    .dataframe tbody tr th:only-of-type {\n",
       "        vertical-align: middle;\n",
       "    }\n",
       "\n",
       "    .dataframe tbody tr th {\n",
       "        vertical-align: top;\n",
       "    }\n",
       "\n",
       "    .dataframe thead th {\n",
       "        text-align: right;\n",
       "    }\n",
       "</style>\n",
       "<table border=\"1\" class=\"dataframe\">\n",
       "  <thead>\n",
       "    <tr style=\"text-align: right;\">\n",
       "      <th>BookID</th>\n",
       "      <th>0000913154</th>\n",
       "      <th>0001046438</th>\n",
       "      <th>000104687X</th>\n",
       "      <th>0001047213</th>\n",
       "      <th>0001047973</th>\n",
       "      <th>000104799X</th>\n",
       "      <th>0001048082</th>\n",
       "      <th>0001053736</th>\n",
       "      <th>0001053744</th>\n",
       "      <th>0001055607</th>\n",
       "      <th>...</th>\n",
       "      <th>B000092Q0A</th>\n",
       "      <th>B00009EF82</th>\n",
       "      <th>B00009NDAN</th>\n",
       "      <th>B0000DYXID</th>\n",
       "      <th>B0000T6KHI</th>\n",
       "      <th>B0000VZEJQ</th>\n",
       "      <th>B0000X8HIE</th>\n",
       "      <th>B00013AX9E</th>\n",
       "      <th>B0001I1KOG</th>\n",
       "      <th>B000234N3A</th>\n",
       "    </tr>\n",
       "    <tr>\n",
       "      <th>UserID</th>\n",
       "      <th></th>\n",
       "      <th></th>\n",
       "      <th></th>\n",
       "      <th></th>\n",
       "      <th></th>\n",
       "      <th></th>\n",
       "      <th></th>\n",
       "      <th></th>\n",
       "      <th></th>\n",
       "      <th></th>\n",
       "      <th></th>\n",
       "      <th></th>\n",
       "      <th></th>\n",
       "      <th></th>\n",
       "      <th></th>\n",
       "      <th></th>\n",
       "      <th></th>\n",
       "      <th></th>\n",
       "      <th></th>\n",
       "      <th></th>\n",
       "      <th></th>\n",
       "    </tr>\n",
       "  </thead>\n",
       "  <tbody>\n",
       "    <tr>\n",
       "      <th>2033</th>\n",
       "      <td>0.0</td>\n",
       "      <td>0.0</td>\n",
       "      <td>0.0</td>\n",
       "      <td>0.0</td>\n",
       "      <td>0.0</td>\n",
       "      <td>0.0</td>\n",
       "      <td>0.0</td>\n",
       "      <td>0.0</td>\n",
       "      <td>0.0</td>\n",
       "      <td>0.0</td>\n",
       "      <td>...</td>\n",
       "      <td>0.0</td>\n",
       "      <td>0.0</td>\n",
       "      <td>0.0</td>\n",
       "      <td>0.0</td>\n",
       "      <td>0.0</td>\n",
       "      <td>0.0</td>\n",
       "      <td>0.0</td>\n",
       "      <td>0.0</td>\n",
       "      <td>0.0</td>\n",
       "      <td>0.0</td>\n",
       "    </tr>\n",
       "    <tr>\n",
       "      <th>2110</th>\n",
       "      <td>0.0</td>\n",
       "      <td>0.0</td>\n",
       "      <td>0.0</td>\n",
       "      <td>0.0</td>\n",
       "      <td>0.0</td>\n",
       "      <td>0.0</td>\n",
       "      <td>0.0</td>\n",
       "      <td>0.0</td>\n",
       "      <td>0.0</td>\n",
       "      <td>0.0</td>\n",
       "      <td>...</td>\n",
       "      <td>0.0</td>\n",
       "      <td>0.0</td>\n",
       "      <td>0.0</td>\n",
       "      <td>0.0</td>\n",
       "      <td>0.0</td>\n",
       "      <td>0.0</td>\n",
       "      <td>0.0</td>\n",
       "      <td>0.0</td>\n",
       "      <td>0.0</td>\n",
       "      <td>0.0</td>\n",
       "    </tr>\n",
       "    <tr>\n",
       "      <th>2276</th>\n",
       "      <td>0.0</td>\n",
       "      <td>0.0</td>\n",
       "      <td>0.0</td>\n",
       "      <td>0.0</td>\n",
       "      <td>0.0</td>\n",
       "      <td>0.0</td>\n",
       "      <td>0.0</td>\n",
       "      <td>0.0</td>\n",
       "      <td>0.0</td>\n",
       "      <td>0.0</td>\n",
       "      <td>...</td>\n",
       "      <td>0.0</td>\n",
       "      <td>0.0</td>\n",
       "      <td>0.0</td>\n",
       "      <td>0.0</td>\n",
       "      <td>0.0</td>\n",
       "      <td>0.0</td>\n",
       "      <td>0.0</td>\n",
       "      <td>0.0</td>\n",
       "      <td>0.0</td>\n",
       "      <td>0.0</td>\n",
       "    </tr>\n",
       "    <tr>\n",
       "      <th>4017</th>\n",
       "      <td>0.0</td>\n",
       "      <td>0.0</td>\n",
       "      <td>0.0</td>\n",
       "      <td>0.0</td>\n",
       "      <td>0.0</td>\n",
       "      <td>0.0</td>\n",
       "      <td>0.0</td>\n",
       "      <td>0.0</td>\n",
       "      <td>0.0</td>\n",
       "      <td>0.0</td>\n",
       "      <td>...</td>\n",
       "      <td>0.0</td>\n",
       "      <td>0.0</td>\n",
       "      <td>0.0</td>\n",
       "      <td>0.0</td>\n",
       "      <td>0.0</td>\n",
       "      <td>0.0</td>\n",
       "      <td>0.0</td>\n",
       "      <td>0.0</td>\n",
       "      <td>0.0</td>\n",
       "      <td>0.0</td>\n",
       "    </tr>\n",
       "    <tr>\n",
       "      <th>4385</th>\n",
       "      <td>0.0</td>\n",
       "      <td>0.0</td>\n",
       "      <td>0.0</td>\n",
       "      <td>0.0</td>\n",
       "      <td>0.0</td>\n",
       "      <td>0.0</td>\n",
       "      <td>0.0</td>\n",
       "      <td>0.0</td>\n",
       "      <td>0.0</td>\n",
       "      <td>0.0</td>\n",
       "      <td>...</td>\n",
       "      <td>0.0</td>\n",
       "      <td>0.0</td>\n",
       "      <td>0.0</td>\n",
       "      <td>0.0</td>\n",
       "      <td>0.0</td>\n",
       "      <td>0.0</td>\n",
       "      <td>0.0</td>\n",
       "      <td>0.0</td>\n",
       "      <td>0.0</td>\n",
       "      <td>0.0</td>\n",
       "    </tr>\n",
       "  </tbody>\n",
       "</table>\n",
       "<p>5 rows × 66574 columns</p>\n",
       "</div>"
      ],
      "text/plain": [
       "BookID  0000913154  0001046438  000104687X  0001047213  0001047973  \\\n",
       "UserID                                                               \n",
       "2033    0.0         0.0         0.0         0.0         0.0          \n",
       "2110    0.0         0.0         0.0         0.0         0.0          \n",
       "2276    0.0         0.0         0.0         0.0         0.0          \n",
       "4017    0.0         0.0         0.0         0.0         0.0          \n",
       "4385    0.0         0.0         0.0         0.0         0.0          \n",
       "\n",
       "BookID  000104799X  0001048082  0001053736  0001053744  0001055607  ...  \\\n",
       "UserID                                                              ...   \n",
       "2033    0.0         0.0         0.0         0.0         0.0         ...   \n",
       "2110    0.0         0.0         0.0         0.0         0.0         ...   \n",
       "2276    0.0         0.0         0.0         0.0         0.0         ...   \n",
       "4017    0.0         0.0         0.0         0.0         0.0         ...   \n",
       "4385    0.0         0.0         0.0         0.0         0.0         ...   \n",
       "\n",
       "BookID  B000092Q0A  B00009EF82  B00009NDAN  B0000DYXID  B0000T6KHI  \\\n",
       "UserID                                                               \n",
       "2033    0.0         0.0         0.0         0.0         0.0          \n",
       "2110    0.0         0.0         0.0         0.0         0.0          \n",
       "2276    0.0         0.0         0.0         0.0         0.0          \n",
       "4017    0.0         0.0         0.0         0.0         0.0          \n",
       "4385    0.0         0.0         0.0         0.0         0.0          \n",
       "\n",
       "BookID  B0000VZEJQ  B0000X8HIE  B00013AX9E  B0001I1KOG  B000234N3A  \n",
       "UserID                                                              \n",
       "2033    0.0         0.0         0.0         0.0         0.0         \n",
       "2110    0.0         0.0         0.0         0.0         0.0         \n",
       "2276    0.0         0.0         0.0         0.0         0.0         \n",
       "4017    0.0         0.0         0.0         0.0         0.0         \n",
       "4385    0.0         0.0         0.0         0.0         0.0         \n",
       "\n",
       "[5 rows x 66574 columns]"
      ]
     },
     "execution_count": 15,
     "metadata": {},
     "output_type": "execute_result"
    }
   ],
   "source": [
    "ratings_matrix.head(5)"
   ]
  },
  {
   "cell_type": "code",
   "execution_count": 16,
   "metadata": {},
   "outputs": [],
   "source": [
    "global metric, k\n",
    "k = 10\n",
    "metric = 'cosine'"
   ]
  },
  {
   "cell_type": "markdown",
   "metadata": {},
   "source": [
    "Methods for recommendation\n",
    "1 : Book-based (using correlation)\n",
    "2 : Book-based (using cosine similarity)\n",
    "3 : User-based (using correlation)\n",
    "4 : User-based (using cosine similarity)"
   ]
  },
  {
   "cell_type": "code",
   "execution_count": 35,
   "metadata": {},
   "outputs": [],
   "source": [
    "def findSimilarUsers(userID, ratings, metric = metric, k = k):\n",
    "    neighbors = []\n",
    "    indices = []\n",
    "    model = NearestNeighbors(metric = metric, algorithm = 'brute')\n",
    "    model.fit(ratings)\n",
    "    loc = ratings.index.get_loc(userID)\n",
    "    distances, indices = model.kneighbors(ratings.iloc[loc, :].values.reshape(1, -1), n_neighbors = k+1)\n",
    "    neighbors = 1-distances.flatten()\n",
    "    \n",
    "    return neighbors, indices"
   ]
  },
  {
   "cell_type": "code",
   "execution_count": 36,
   "metadata": {},
   "outputs": [],
   "source": [
    "def predictUserRatingForBook_UB(userID, bookID, ratings, metric = metric, k = k):\n",
    "    predicted_rating = 0\n",
    "    user = ratings.index.get_loc(userID)\n",
    "    book = ratings.columns.get_loc(bookID)\n",
    "    neighbors, indices = findSimilarUsers(userID, ratings, 'correlation', 10)\n",
    "    mean_rating = ratings.iloc[user,:].mean()\n",
    "    sum_wt = np.sum(neighbors)-1\n",
    "    product = 1\n",
    "    weighted_sum = 0\n",
    "    for i in range(len(indices.flatten())):\n",
    "        if indices.flatten()[i] == user:\n",
    "            continue\n",
    "        else:\n",
    "            ratings_difference = ratings.iloc[indices.flatten()[i], book] - np.mean(ratings.iloc[indices.flatten()[i],:])\n",
    "            product = ratings_difference * neighbors[i]\n",
    "            weighted_sum = weighted_sum + product\n",
    "    \n",
    "    predicted_rating = int(round(mean_rating + weighted_sum/sum_wt))\n",
    "    if predicted_rating <=0:\n",
    "        predicted_rating = 0\n",
    "    elif predicted_rating >=10:\n",
    "        predicted_rating = 10\n",
    "        \n",
    "    #print(\"Predicted rating for user: \", userID, \"for book : \", bookID, \"is : \",predicted_rating)\n",
    "    return predicted_rating"
   ]
  },
  {
   "cell_type": "code",
   "execution_count": 38,
   "metadata": {},
   "outputs": [],
   "source": [
    "def findSimilarBooks(BookID, ratings, metric = metric, k = k):\n",
    "    neighbors = []\n",
    "    indices = []\n",
    "    ratings = ratings.T\n",
    "    book = ratings.index.get_loc(BookID)\n",
    "    model = NearestNeighbors(metric = metric, algorithm = 'brute')\n",
    "    model.fit(ratings)\n",
    "    distances, indices = model.kneighbors(ratings.iloc[book, :].values.reshape(1,-1), n_neighbors = k+1)\n",
    "    neighbors = 1-distances.flatten()\n",
    "    \n",
    "    return neighbors, indices"
   ]
  },
  {
   "cell_type": "code",
   "execution_count": 40,
   "metadata": {},
   "outputs": [],
   "source": [
    "def predictUserRatingForBook_BB(userID, bookID, ratings, metric = metric, k = k):\n",
    "    predicted_rating = 0\n",
    "    user = ratings.index.get_loc(userID)\n",
    "    book = ratings.columns.get_loc(bookID)\n",
    "    neighbors, indices = findSimilarUsers(userID, ratings, 'correlation', 10)\n",
    "    mean_rating = ratings.iloc[user,:].mean()\n",
    "    sum_wt = np.sum(neighbors)-1\n",
    "    product = 1\n",
    "    weighted_sum = 0\n",
    "    for i in range(len(indices.flatten())):\n",
    "        if indices.flatten()[i] == book:\n",
    "            continue\n",
    "        else:\n",
    "            product = ratings.iloc[user,indices.flatten()[i]] * (neighbors[i])\n",
    "            weighted_sum = weighted_sum + product\n",
    "    \n",
    "    predicted_rating = int(round(mean_rating + weighted_sum/sum_wt))\n",
    "    if predicted_rating <=0:\n",
    "        predicted_rating = 0\n",
    "    elif predicted_rating >=10:\n",
    "        predicted_rating = 10\n",
    "        \n",
    "    #print(\"Predicted rating for user: \", userID, \"for book : \", bookID, \"is : \",predicted_rating)\n",
    "    return predicted_rating"
   ]
  },
  {
   "cell_type": "code",
   "execution_count": 47,
   "metadata": {},
   "outputs": [],
   "source": [
    "def recommendBook(user_id, ratings, method, metric=metric):\n",
    "    if (user_id not in ratings.index.values) or type(user_id) is not int:\n",
    "        print(\"Invalid User ID\")\n",
    "    else:\n",
    "        i=0\n",
    "        prediction = []\n",
    "        if (method == 1 or method == 3):\n",
    "            metric = 'correlation'\n",
    "        else:\n",
    "            metric = 'cosine'\n",
    "        if (method == 1 or method == 2):\n",
    "            for i in range(ratings.shape[1]):\n",
    "                if (ratings[str(ratings.columns[i])][user_id] !=0):\n",
    "                    prediction.append(predictUserRatingForBook_BB(user_id, str(ratings.columns[i]) ,ratings, metric))\n",
    "                else:\n",
    "                    prediction.append(-1)\n",
    "        else:\n",
    "            for i in range(ratings.shape[1]):\n",
    "                if (ratings[str(ratings.columns[i])][user_id] !=0):\n",
    "                    prediction.append(predictUserRatingForBook_UB(user_id, str(ratings.columns[i]) ,ratings, metric))\n",
    "                else:\n",
    "                    prediction.append(-1)\n",
    "        prediction = pd.Series(prediction)\n",
    "        prediction = prediction.sort_values(ascending=False)\n",
    "        recommended = prediction[:10]\n",
    "        print(\"recommendations\")\n",
    "        for i in range(len(recommended)):\n",
    "            print(i+1, books.Title[recommended.index[i]]) "
   ]
  },
  {
   "cell_type": "raw",
   "metadata": {},
   "source": [
    "Methods for recommendation\n",
    "1 : Book-based (using correlation)\n",
    "2 : Book-based (using cosine similarity)\n",
    "3 : User-based (using correlation)\n",
    "4 : User-based (using cosine similarity)"
   ]
  },
  {
   "cell_type": "code",
   "execution_count": 44,
   "metadata": {},
   "outputs": [
    {
     "name": "stdout",
     "output_type": "stream",
     "text": [
      "recommendations\n",
      "1 My Wicked Wicked Ways\n",
      "2 El perfume\n",
      "3 Arena y viento (Los Jet de Plaza &amp; JanÃ©s)\n",
      "4 La Fata Carabina\n",
      "5 Mi mamÃ¡ me ama (Nueva narrativa hispÃ¡nica)\n",
      "6 Donde El Corazon Te Lleve\n",
      "7 Fair Peril\n",
      "8 Equal Rites (Discworld Novels (Paperback))\n",
      "9 Mazurka for Two Dead Men\n",
      "10 Perfect Harmony\n"
     ]
    }
   ],
   "source": [
    "recommendBook(4385, ratings_matrix, 1)"
   ]
  },
  {
   "cell_type": "code",
   "execution_count": 45,
   "metadata": {},
   "outputs": [
    {
     "name": "stdout",
     "output_type": "stream",
     "text": [
      "recommendations\n",
      "1 My Wicked Wicked Ways\n",
      "2 El perfume\n",
      "3 Arena y viento (Los Jet de Plaza &amp; JanÃ©s)\n",
      "4 La Fata Carabina\n",
      "5 Mi mamÃ¡ me ama (Nueva narrativa hispÃ¡nica)\n",
      "6 Donde El Corazon Te Lleve\n",
      "7 Fair Peril\n",
      "8 Equal Rites (Discworld Novels (Paperback))\n",
      "9 Mazurka for Two Dead Men\n",
      "10 Perfect Harmony\n"
     ]
    }
   ],
   "source": [
    "recommendBook(4385, ratings_matrix, 2)"
   ]
  },
  {
   "cell_type": "code",
   "execution_count": 48,
   "metadata": {},
   "outputs": [
    {
     "name": "stdout",
     "output_type": "stream",
     "text": [
      "Invalid User ID\n"
     ]
    }
   ],
   "source": [
    "recommendBook(4235, ratings_matrix, 3)"
   ]
  },
  {
   "cell_type": "code",
   "execution_count": null,
   "metadata": {},
   "outputs": [],
   "source": [
    "recommendBook(4385, ratings_matrix, 4)"
   ]
  }
 ],
 "metadata": {
  "kernelspec": {
   "display_name": "Python 3",
   "language": "python",
   "name": "python3"
  },
  "language_info": {
   "codemirror_mode": {
    "name": "ipython",
    "version": 3
   },
   "file_extension": ".py",
   "mimetype": "text/x-python",
   "name": "python",
   "nbconvert_exporter": "python",
   "pygments_lexer": "ipython3",
   "version": "3.7.1"
  }
 },
 "nbformat": 4,
 "nbformat_minor": 2
}
